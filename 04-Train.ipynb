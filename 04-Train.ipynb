{
 "cells": [
  {
   "cell_type": "markdown",
   "id": "corresponding-replication",
   "metadata": {},
   "source": [
    "## Introduction\n",
    "Finally we are going to train our atrium segmentation network"
   ]
  },
  {
   "cell_type": "markdown",
   "id": "sacred-bahamas",
   "metadata": {},
   "source": [
    "## Imports:\n",
    "\n",
    "* pathlib for easy path handling\n",
    "* torch for tensor handling\n",
    "* pytorch lightning for efficient and easy training implementation\n",
    "* ModelCheckpoint and TensorboardLogger for checkpoint saving and logging\n",
    "* imgaug for Data Augmentation\n",
    "* numpy for file loading and array ops\n",
    "* matplotlib for visualizing some images\n",
    "* Our dataset and model\n",
    "\n"
   ]
  },
  {
   "cell_type": "code",
   "execution_count": 1,
   "id": "pregnant-density",
   "metadata": {},
   "outputs": [],
   "source": [
    "from pathlib import Path\n",
    "\n",
    "import torch\n",
    "import pytorch_lightning as pl\n",
    "from pytorch_lightning.callbacks import ModelCheckpoint\n",
    "from pytorch_lightning.loggers import TensorBoardLogger\n",
    "import imgaug.augmenters as iaa\n",
    "import numpy as np\n",
    "import matplotlib.pyplot as plt\n",
    "\n",
    "from dataset import CardiacDataset\n",
    "from model import UNet"
   ]
  },
  {
   "cell_type": "markdown",
   "id": "brutal-implementation",
   "metadata": {},
   "source": [
    "## Dataset Creation\n",
    "Here we create the train and validation dataset. <br />\n",
    "Additionally, we define our data augmentation pipeline.\n",
    "Subsequently the two dataloaders are created"
   ]
  },
  {
   "cell_type": "code",
   "execution_count": 2,
   "id": "broadband-arcade",
   "metadata": {},
   "outputs": [],
   "source": [
    "seq = iaa.Sequential([\n",
    "    iaa.Affine(scale=(0.85, 1.15),\n",
    "              rotate=(-45, 45)),\n",
    "    iaa.ElasticTransformation()\n",
    "])\n",
    "#aug_params"
   ]
  },
  {
   "cell_type": "code",
   "execution_count": 3,
   "id": "laughing-rehabilitation",
   "metadata": {},
   "outputs": [
    {
     "name": "stdout",
     "output_type": "stream",
     "text": [
      "There are 1932 train images and 339 val images\n"
     ]
    }
   ],
   "source": [
    "# Create the dataset objects\n",
    "train_path = Path(\"Preprocessed/train/\")\n",
    "val_path = Path(\"Preprocessed/val\")\n",
    "\n",
    "train_dataset = CardiacDataset(train_path, seq)\n",
    "val_dataset = CardiacDataset(val_path, None)\n",
    "\n",
    "print(f\"There are {len(train_dataset)} train images and {len(val_dataset)} val images\")"
   ]
  },
  {
   "cell_type": "code",
   "execution_count": 4,
   "id": "final-assets",
   "metadata": {},
   "outputs": [],
   "source": [
    "batch_size = 8\n",
    "num_workers = 4\n",
    "\n",
    "train_loader = torch.utils.data.DataLoader(train_dataset, batch_size=batch_size, num_workers=num_workers, shuffle=True)\n",
    "val_loader = torch.utils.data.DataLoader(val_dataset, batch_size=batch_size, num_workers=num_workers, shuffle=False)\n"
   ]
  },
  {
   "cell_type": "markdown",
   "id": "mechanical-startup",
   "metadata": {},
   "source": [
    "## Custom Loss\n",
    "Often segmentation models perform better when using a Dice Loss instead of Cross-Entropy.<br />\n",
    "The Dice Loss is defined as:\n",
    "$$ L(\\hat{y}, y) = 1-\\frac{2 |\\hat{y} \\cap y|}{|\\hat{y}| + |y|}$$\n",
    "\n",
    "The intersection can be easily computed by $\\hat{y}$ * $y$ as both variables are binary masks.\n",
    "\n",
    "You can read more about the Dice Score here:\n",
    "https://en.wikipedia.org/wiki/S%C3%B8rensen%E2%80%93Dice_coefficient"
   ]
  },
  {
   "cell_type": "code",
   "execution_count": 5,
   "id": "incorporate-horse",
   "metadata": {},
   "outputs": [],
   "source": [
    "class DiceLoss(torch.nn.Module):\n",
    "    \"\"\"\n",
    "    class to compute the Dice Loss\n",
    "    \"\"\"\n",
    "    def __init__(self):\n",
    "        super().__init__()\n",
    "\n",
    "    def forward(self, pred, mask): #ground mask \n",
    "                \n",
    "        # Flatten label and prediction tensors\n",
    "        pred = torch.flatten(pred) #eg: 8b*1C*256h*256w\n",
    "        mask = torch.flatten(mask)\n",
    "        counter = (pred * mask).sum()  # Numerator       \n",
    "        denum = pred.sum() + mask.sum() + 1e-8  # Denominator. Add a small number to prevent NANS\n",
    "        dice =  (2*counter)/denum\n",
    "        return 1 - dice\n"
   ]
  },
  {
   "cell_type": "markdown",
   "id": "prime-radio",
   "metadata": {},
   "source": [
    "## Full Segmentation Model\n",
    "\n",
    "We will now combine everything into the full pytorch lightning model"
   ]
  },
  {
   "cell_type": "code",
   "execution_count": 6,
   "id": "little-dover",
   "metadata": {},
   "outputs": [],
   "source": [
    "class AtriumSegmentation(pl.LightningModule):\n",
    "    def __init__(self):\n",
    "        super().__init__()\n",
    "        \n",
    "        self.model = UNet()\n",
    "        \n",
    "        self.optimizer = torch.optim.Adam(self.model.parameters(), lr=1e-4)\n",
    "        self.loss_fn = DiceLoss()\n",
    "        \n",
    "    def forward(self, data):\n",
    "        return torch.sigmoid(self.model(data))\n",
    "    \n",
    "    def training_step(self, batch, batch_idx):\n",
    "        mri, mask = batch\n",
    "        mask = mask.float()\n",
    "        pred = self(mri)\n",
    "        \n",
    "        loss = self.loss_fn(pred, mask)\n",
    "        \n",
    "        self.log(\"Train Dice\", loss)\n",
    "        \n",
    "        if batch_idx % 50 == 0:\n",
    "            self.log_images(mri.cpu(), pred.cpu(), mask.cpu(), \"Train\")\n",
    "            \n",
    "        return loss\n",
    "    \n",
    "    def validation_step(self, batch, batch_idx):\n",
    "        mri, mask = batch\n",
    "        mask = mask.float()\n",
    "        pred = self(mri)\n",
    "        \n",
    "        loss = self.loss_fn(pred, mask)\n",
    "        \n",
    "        self.log(\"Val Dice\", loss)\n",
    "        \n",
    "        if batch_idx % 2 == 0:\n",
    "            self.log_images(mri.cpu(), pred.cpu(), mask.cpu(), \"Val\")\n",
    "            \n",
    "        return loss\n",
    "    \n",
    "    def log_images(self, mri, pred, mask, name):\n",
    "        \n",
    "        pred = pred > 0.5\n",
    "        \n",
    "        fig, axis = plt.subplots(1, 2)\n",
    "        axis[0].imshow(mri[0][0], cmap=\"bone\")\n",
    "        mask_ = np.ma.masked_where(mask[0][0] == 0, mask[0][0])\n",
    "        axis[0].imshow(mask_, alpha=0.6)\n",
    "        \n",
    "        axis[1].imshow(mri[0][0], cmap=\"bone\")\n",
    "        mask_ = np.ma.masked_where(pred[0][0] == 0, pred[0][0])\n",
    "        axis[1].imshow(mask_, alpha=0.6)\n",
    "        \n",
    "        self.logger.experiment.add_figure(name, fig, self.global_step)#tensorboard\n",
    "        \n",
    "    def configure_optimizers(self):\n",
    "        return [self.optimizer] #packed in list "
   ]
  },
  {
   "cell_type": "code",
   "execution_count": 7,
   "id": "featured-nature",
   "metadata": {},
   "outputs": [],
   "source": [
    "# Instanciate the model and set the random seed\n",
    "torch.manual_seed(0)\n",
    "model = AtriumSegmentation()"
   ]
  },
  {
   "cell_type": "code",
   "execution_count": 8,
   "id": "diagnostic-particle",
   "metadata": {},
   "outputs": [],
   "source": [
    "# Create the checkpoint callback\n",
    "checkpoint_callback = ModelCheckpoint(\n",
    "    monitor='Val Dice',\n",
    "    save_top_k=10,\n",
    "    mode='min') #save 10 to that has min dice loss"
   ]
  },
  {
   "cell_type": "code",
   "execution_count": 10,
   "id": "pacific-inventory",
   "metadata": {},
   "outputs": [
    {
     "name": "stderr",
     "output_type": "stream",
     "text": [
      "GPU available: False, used: False\n",
      "TPU available: False, using: 0 TPU cores\n",
      "IPU available: False, using: 0 IPUs\n",
      "HPU available: False, using: 0 HPUs\n"
     ]
    }
   ],
   "source": [
    "# Create the trainer\n",
    "# Change the gpus parameter to the number of available gpus in your computer. Use 0 for CPU training\n",
    "\n",
    "gpus = 1 #TODO\n",
    "trainer = pl.Trainer(logger=TensorBoardLogger(save_dir=\"./logs\"), log_every_n_steps=1,\n",
    "                     callbacks=checkpoint_callback,max_epochs=75)\n"
   ]
  },
  {
   "cell_type": "code",
   "execution_count": 11,
   "id": "handy-testing",
   "metadata": {
    "scrolled": false
   },
   "outputs": [
    {
     "name": "stderr",
     "output_type": "stream",
     "text": [
      "Missing logger folder: ./logs\\lightning_logs\n",
      "\n",
      "  | Name    | Type     | Params\n",
      "-------------------------------------\n",
      "0 | model   | UNet     | 7.8 M \n",
      "1 | loss_fn | DiceLoss | 0     \n",
      "-------------------------------------\n",
      "7.8 M     Trainable params\n",
      "0         Non-trainable params\n",
      "7.8 M     Total params\n",
      "31.127    Total estimated model params size (MB)\n"
     ]
    },
    {
     "data": {
      "application/vnd.jupyter.widget-view+json": {
       "model_id": "",
       "version_major": 2,
       "version_minor": 0
      },
      "text/plain": [
       "Sanity Checking: |                                                                               | 0/? [00:00<…"
      ]
     },
     "metadata": {},
     "output_type": "display_data"
    },
    {
     "name": "stderr",
     "output_type": "stream",
     "text": [
      "C:\\Users\\jaikr\\.conda\\envs\\Jupyter_1\\lib\\site-packages\\pytorch_lightning\\trainer\\connectors\\data_connector.py:436: Consider setting `persistent_workers=True` in 'val_dataloader' to speed up the dataloader worker initialization.\n",
      "C:\\Users\\jaikr\\.conda\\envs\\Jupyter_1\\lib\\site-packages\\pytorch_lightning\\trainer\\connectors\\data_connector.py:436: Consider setting `persistent_workers=True` in 'train_dataloader' to speed up the dataloader worker initialization.\n"
     ]
    },
    {
     "data": {
      "application/vnd.jupyter.widget-view+json": {
       "model_id": "af676daefed543c788e56c11dbfcb551",
       "version_major": 2,
       "version_minor": 0
      },
      "text/plain": [
       "Training: |                                                                                      | 0/? [00:00<…"
      ]
     },
     "metadata": {},
     "output_type": "display_data"
    },
    {
     "name": "stderr",
     "output_type": "stream",
     "text": [
      "C:\\Users\\jaikr\\.conda\\envs\\Jupyter_1\\lib\\site-packages\\pytorch_lightning\\trainer\\call.py:54: Detected KeyboardInterrupt, attempting graceful shutdown...\n"
     ]
    }
   ],
   "source": [
    "trainer.fit(model, train_loader, val_loader)"
   ]
  },
  {
   "cell_type": "markdown",
   "id": "illegal-harvest",
   "metadata": {},
   "source": [
    "## Evaluation:\n",
    "Let's evaluate the model\n",
    "\n",
    "* nibabel to load a full scan\n",
    "* tqdm for progress bar when validating the model\n",
    "* celluloid for easy video generation\n"
   ]
  },
  {
   "cell_type": "code",
   "execution_count": 12,
   "id": "affecting-consolidation",
   "metadata": {},
   "outputs": [],
   "source": [
    "import nibabel as nib\n",
    "from tqdm.notebook import tqdm\n",
    "from celluloid import Camera\n"
   ]
  },
  {
   "cell_type": "markdown",
   "id": "junior-tennis",
   "metadata": {},
   "source": [
    "First we load a checkpoint:"
   ]
  },
  {
   "cell_type": "code",
   "execution_count": 40,
   "id": "unavailable-medline",
   "metadata": {},
   "outputs": [
    {
     "name": "stderr",
     "output_type": "stream",
     "text": [
      "Lightning automatically upgraded your loaded checkpoint from v1.3.4 to v2.1.1. To apply the upgrade to your files permanently, run `python -m pytorch_lightning.utilities.upgrade_checkpoint D:\\Udemy-Medical PyTorch\\06-Atrium-Segmentation\\06-Atrium-Segmentation\\weights\\50.ckpt`\n"
     ]
    }
   ],
   "source": [
    "model = AtriumSegmentation.load_from_checkpoint(\"weights/50.ckpt\")"
   ]
  },
  {
   "cell_type": "code",
   "execution_count": 41,
   "id": "initial-strain",
   "metadata": {
    "scrolled": true
   },
   "outputs": [],
   "source": [
    "device = torch.device(\"cuda:0\" if torch.cuda.is_available() else \"cpu\")\n",
    "model.eval();\n",
    "model.to(device);"
   ]
  },
  {
   "cell_type": "markdown",
   "id": "every-injection",
   "metadata": {},
   "source": [
    "Evalute the complete validation dataset"
   ]
  },
  {
   "cell_type": "code",
   "execution_count": 42,
   "id": "imported-neighborhood",
   "metadata": {
    "scrolled": true
   },
   "outputs": [
    {
     "data": {
      "application/vnd.jupyter.widget-view+json": {
       "model_id": "0f33ab17b4db42329186dc277546097b",
       "version_major": 2,
       "version_minor": 0
      },
      "text/plain": [
       "  0%|          | 0/339 [00:00<?, ?it/s]"
      ]
     },
     "metadata": {},
     "output_type": "display_data"
    }
   ],
   "source": [
    "preds = []\n",
    "labels = []\n",
    "\n",
    "for slice, label in tqdm(val_dataset):\n",
    "    slice = torch.tensor(slice).to(device).unsqueeze(0)#channel dim added\n",
    "    with torch.no_grad(): #no grad as it is val\n",
    "        pred = model(slice)\n",
    "    preds.append(pred.cpu().numpy())\n",
    "    labels.append(label)\n",
    "    \n",
    "preds = np.array(preds)\n",
    "labels = np.array(labels)"
   ]
  },
  {
   "cell_type": "markdown",
   "id": "destroyed-hometown",
   "metadata": {},
   "source": [
    "Compute overall Dice Score (1- DiceLoss):\n",
    "Wow! What a great score"
   ]
  },
  {
   "cell_type": "code",
   "execution_count": 43,
   "id": "sudden-password",
   "metadata": {},
   "outputs": [
    {
     "data": {
      "text/plain": [
       "tensor(0.9510)"
      ]
     },
     "execution_count": 43,
     "metadata": {},
     "output_type": "execute_result"
    }
   ],
   "source": [
    "1-model.loss_fn(torch.from_numpy(preds), torch.from_numpy(labels))  # two possibilities"
   ]
  },
  {
   "cell_type": "code",
   "execution_count": 44,
   "id": "weekly-issue",
   "metadata": {},
   "outputs": [
    {
     "name": "stdout",
     "output_type": "stream",
     "text": [
      "The Val Dice Score is: 0.9509609341621399\n"
     ]
    }
   ],
   "source": [
    "dice_score = 1-DiceLoss()(torch.from_numpy(preds), torch.from_numpy(labels).unsqueeze(0).float())\n",
    "print(f\"The Val Dice Score is: {dice_score}\")"
   ]
  },
  {
   "cell_type": "markdown",
   "id": "dense-extent",
   "metadata": {},
   "source": [
    "## Visualization"
   ]
  },
  {
   "cell_type": "markdown",
   "id": "typical-batman",
   "metadata": {},
   "source": [
    "We can now load a test subject from the dataset and estimate the position of the left atrium"
   ]
  },
  {
   "cell_type": "code",
   "execution_count": 45,
   "id": "prime-regard",
   "metadata": {},
   "outputs": [],
   "source": [
    "subject = Path(\"Task02_Heart/imagesTs/la_001.nii.gz\")\n",
    "subject_mri = nib.load(subject).get_fdata()"
   ]
  },
  {
   "cell_type": "markdown",
   "id": "present-symphony",
   "metadata": {},
   "source": [
    "As this scan is neither normalized nor standardized we need to perform those tasks!<br />\n",
    "Let us copy the normalization and standardization functions from our preprocessing notebook:"
   ]
  },
  {
   "cell_type": "code",
   "execution_count": 46,
   "id": "frequent-indonesian",
   "metadata": {},
   "outputs": [],
   "source": [
    "# Helper functions for normalization and standardization\n",
    "def normalize(full_volume):\n",
    "    \"\"\"\n",
    "    Z-Normalization of the whole subject\n",
    "    \"\"\"\n",
    "    mu = full_volume.mean()\n",
    "    std = np.std(full_volume)\n",
    "    normalized = (full_volume - mu) / std\n",
    "    return normalized\n",
    "\n",
    "def standardize(normalized_data):\n",
    "    \"\"\"\n",
    "    Standardize the normalized data into the 0-1 range\n",
    "    \"\"\"\n",
    "    standardized_data = (normalized_data - normalized_data.min()) / (normalized_data.max() - normalized_data.min())\n",
    "    return standardized_data\n"
   ]
  },
  {
   "cell_type": "markdown",
   "id": "later-medicine",
   "metadata": {},
   "source": [
    "We preprocess the scan and crop 32 px from top, bottom, back and front"
   ]
  },
  {
   "cell_type": "code",
   "execution_count": 47,
   "id": "defensive-coral",
   "metadata": {},
   "outputs": [],
   "source": [
    "subject_mri = subject_mri[32:-32, 32:-32]\n",
    "standardized_scan = standardize(normalize(subject_mri))"
   ]
  },
  {
   "cell_type": "code",
   "execution_count": 48,
   "id": "enormous-clearing",
   "metadata": {},
   "outputs": [
    {
     "data": {
      "text/plain": [
       "(336, 336, 180)"
      ]
     },
     "execution_count": 48,
     "metadata": {},
     "output_type": "execute_result"
    }
   ],
   "source": [
    "standardized_scan.shape"
   ]
  },
  {
   "cell_type": "code",
   "execution_count": 49,
   "id": "civilian-lebanon",
   "metadata": {},
   "outputs": [],
   "source": [
    "preds = []\n",
    "for i in range(standardized_scan.shape[-1]): #saggital\n",
    "    slice = standardized_scan[:,:,i] #current slice\n",
    "    with torch.no_grad():\n",
    "        pred = model(torch.tensor(slice).unsqueeze(0).unsqueeze(0).float().to(device))[0][0] \n",
    "        #channel dim and batch dim aftr copying again remove batch and channel dim\n",
    "        pred = pred > 0.5\n",
    "    preds.append(pred.cpu())"
   ]
  },
  {
   "cell_type": "code",
   "execution_count": 50,
   "id": "minute-student",
   "metadata": {},
   "outputs": [
    {
     "data": {
      "image/png": "[encoded data removed]",
      "text/plain": [
       "<Figure size 640x480 with 1 Axes>"
      ]
     },
     "metadata": {},
     "output_type": "display_data"
    }
   ],
   "source": [
    "fig = plt.figure()\n",
    "camera = Camera(fig)  # create the camera object from celluloid\n",
    "\n",
    "for i in range(standardized_scan.shape[-1]):#saggital\n",
    "    plt.imshow(standardized_scan[:,:,i], cmap=\"bone\")\n",
    "    mask = np.ma.masked_where(preds[i]==0, preds[i])\n",
    "    plt.imshow(mask, alpha=0.5, cmap=\"autumn\")\n",
    "    \n",
    "    camera.snap()  # Store the current slice\n",
    "animation = camera.animate()  # create the animation\n",
    "\n",
    "\n"
   ]
  },
  {
   "cell_type": "code",
   "execution_count": 55,
   "id": "falling-legislature",
   "metadata": {},
   "outputs": [
    {
     "ename": "AttributeError",
     "evalue": "module 'matplotlib.animation' has no attribute 'to_jshtml'",
     "output_type": "error",
     "traceback": [
      "\u001b[1;31m---------------------------------------------------------------------------\u001b[0m",
      "\u001b[1;31mAttributeError\u001b[0m                            Traceback (most recent call last)",
      "Cell \u001b[1;32mIn[55], line 2\u001b[0m\n\u001b[0;32m      1\u001b[0m \u001b[38;5;28;01mfrom\u001b[39;00m \u001b[38;5;21;01mIPython\u001b[39;00m\u001b[38;5;21;01m.\u001b[39;00m\u001b[38;5;21;01mdisplay\u001b[39;00m \u001b[38;5;28;01mimport\u001b[39;00m HTML\n\u001b[1;32m----> 2\u001b[0m HTML(\u001b[43manimation\u001b[49m\u001b[38;5;241;43m.\u001b[39;49m\u001b[43mto_jshtml\u001b[49m())  \u001b[38;5;66;03m# convert the animation to a video\u001b[39;00m\n",
      "\u001b[1;31mAttributeError\u001b[0m: module 'matplotlib.animation' has no attribute 'to_jshtml'"
     ]
    }
   ],
   "source": [
    "from IPython.display import HTML\n",
    "HTML(animation.to_jshtml())  # convert the animation to a video\n"
   ]
  },
  {
   "cell_type": "code",
   "execution_count": 52,
   "id": "d0f2a448",
   "metadata": {},
   "outputs": [
    {
     "name": "stderr",
     "output_type": "stream",
     "text": [
      "'apt' is not recognized as an internal or external command,\n",
      "operable program or batch file.\n"
     ]
    }
   ],
   "source": [
    "!br install ffmpeg\n"
   ]
  },
  {
   "cell_type": "markdown",
   "id": "supposed-function",
   "metadata": {},
   "source": [
    "Congratulations! You made it to the end of the segmentation lecture"
   ]
  }
 ],
 "metadata": {
  "kernelspec": {
   "display_name": "Python 3 (ipykernel)",
   "language": "python",
   "name": "python3"
  },
  "language_info": {
   "codemirror_mode": {
    "name": "ipython",
    "version": 3
   },
   "file_extension": ".py",
   "mimetype": "text/x-python",
   "name": "python",
   "nbconvert_exporter": "python",
   "pygments_lexer": "ipython3",
   "version": "3.9.18"
  }
 },
 "nbformat": 4,
 "nbformat_minor": 5
}
